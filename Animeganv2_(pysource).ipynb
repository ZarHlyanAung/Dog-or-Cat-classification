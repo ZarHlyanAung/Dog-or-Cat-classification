{
  "nbformat": 4,
  "nbformat_minor": 0,
  "metadata": {
    "colab": {
      "name": "Animeganv2 (pysource).ipynb",
      "provenance": [],
      "include_colab_link": true
    },
    "kernelspec": {
      "name": "python3",
      "display_name": "Python 3"
    },
    "language_info": {
      "name": "python"
    },
    "accelerator": "GPU"
  },
  "cells": [
    {
      "cell_type": "markdown",
      "metadata": {
        "id": "view-in-github",
        "colab_type": "text"
      },
      "source": [
        "<a href=\"https://colab.research.google.com/github/ZarHlyanAung/Dog-or-Cat-classification/blob/main/Animeganv2_(pysource).ipynb\" target=\"_parent\"><img src=\"https://colab.research.google.com/assets/colab-badge.svg\" alt=\"Open In Colab\"/></a>"
      ]
    },
    {
      "cell_type": "markdown",
      "metadata": {
        "id": "E6RaufX9RreZ"
      },
      "source": [
        "This is a simple implementation of [AnimeGANv2](https://github.com/TachibanaYoshino/AnimeGANv2) developed by  TachibanaYoshino.\n",
        "\n",
        "You can watch the video tutorial on Youtube: [Convert Photo to Cartoon (AnimeGAN v2) | with Python](https://www.youtube.com/watch?v=3svTnsA7PGQ)\n",
        "\n"
      ]
    },
    {
      "cell_type": "markdown",
      "metadata": {
        "id": "b1IEV77ATLUp"
      },
      "source": [
        "# **1. Install AnimeGANv2**\n",
        "Run the cell to install AnimeGANv2. The installation is automatic and it takes less than a minute."
      ]
    },
    {
      "cell_type": "code",
      "metadata": {
        "id": "bhRBCTrOtPop"
      },
      "source": [
        "%tensorflow_version 1.x\n",
        "!git clone https://github.com/TachibanaYoshino/AnimeGANv2\n",
        "!mkdir /content/images"
      ],
      "execution_count": null,
      "outputs": []
    },
    {
      "cell_type": "markdown",
      "metadata": {
        "id": "XcdgkjnmcNvU"
      },
      "source": [
        "# **2. Upload images**\n",
        "\n",
        "Drag and drop the images from your computer's folder to the \"images\" folder on this notebook's left bar."
      ]
    },
    {
      "cell_type": "markdown",
      "metadata": {
        "id": "ynzS9iAtTXvc"
      },
      "source": [
        "# **3. Transform Photos to Cartoons**\n",
        "Run this cell to automatically transform the images into cartoon."
      ]
    },
    {
      "cell_type": "code",
      "metadata": {
        "id": "SNBkXnhGoKuC"
      },
      "source": [
        "!python AnimeGANv2/test.py --checkpoint_dir /content/AnimeGANv2/checkpoint/generator_Paprika_weight --test_dir /content/images"
      ],
      "execution_count": null,
      "outputs": []
    },
    {
      "cell_type": "markdown",
      "metadata": {
        "id": "KFhXactBS3Qj"
      },
      "source": [
        "# **4. Download Cartoonified images**\n",
        "Your photos are already transformed into a cartoon and you can download them by running this cell.\n",
        "\n"
      ]
    },
    {
      "cell_type": "code",
      "metadata": {
        "id": "buVbgKa_Rj3R"
      },
      "source": [
        "import shutil\n",
        "from google.colab import files\n",
        "shutil.make_archive(\"cartoon_images\", 'zip', \"/content/results/images/\")\n",
        "files.download(\"/content/cartoon_images.zip\")"
      ],
      "execution_count": null,
      "outputs": []
    }
  ]
}